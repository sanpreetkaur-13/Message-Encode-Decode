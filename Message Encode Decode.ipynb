{
 "cells": [
  {
   "cell_type": "code",
   "execution_count": 1,
   "metadata": {},
   "outputs": [
    {
     "name": "stdout",
     "output_type": "stream",
     "text": [
      "Please Enter your messagesanpreet\n",
      "The encoded string in is : \n",
      "b'sanpreet'\n",
      "The decoded string is : \n",
      "sanpreet\n"
     ]
    }
   ],
   "source": [
    "str = input(\"Please Enter your message\")\n",
    "    \n",
    "str_enc = str.encode(encoding='utf8') \n",
    "\n",
    "print (\"The encoded string in is : \",) \n",
    "print (str_enc )  \n",
    "print (\"The decoded string is : \",) \n",
    "print (str_enc.decode('utf8', 'strict'))"
   ]
  },
  {
   "cell_type": "code",
   "execution_count": 2,
   "metadata": {},
   "outputs": [
    {
     "name": "stdout",
     "output_type": "stream",
     "text": [
      "Please Enter your messagesanpreet\n",
      "The encoded string is : \n",
      "b'\\xff\\xfes\\x00a\\x00n\\x00p\\x00r\\x00e\\x00e\\x00t\\x00'\n",
      "The decoded string is : \n",
      "sanpreet\n"
     ]
    }
   ],
   "source": [
    "str = input(\"Please Enter your message\")\n",
    "    \n",
    "str_enc = str.encode(encoding='utf16') \n",
    "     \n",
    "print (\"The encoded string is : \",) \n",
    "print (str_enc )  \n",
    "print (\"The decoded string is : \",) \n",
    "print (str_enc.decode('utf16', 'strict'))"
   ]
  },
  {
   "cell_type": "code",
   "execution_count": 3,
   "metadata": {},
   "outputs": [
    {
     "name": "stdout",
     "output_type": "stream",
     "text": [
      "Please Enter your messagesanpreet\n",
      "The encoded string in base64 format is : \n",
      "b'\\xff\\xfe\\x00\\x00s\\x00\\x00\\x00a\\x00\\x00\\x00n\\x00\\x00\\x00p\\x00\\x00\\x00r\\x00\\x00\\x00e\\x00\\x00\\x00e\\x00\\x00\\x00t\\x00\\x00\\x00'\n",
      "The decoded string is : \n",
      "sanpreet\n"
     ]
    }
   ],
   "source": [
    "str = input(\"Please Enter your message\")\n",
    "    \n",
    "str_enc = str.encode(encoding='utf32') \n",
    "     \n",
    "print (\"The encoded string in base64 format is : \",) \n",
    "print (str_enc )  \n",
    "print (\"The decoded string is : \",) \n",
    "print (str_enc.decode('utf32', 'strict'))"
   ]
  },
  {
   "cell_type": "code",
   "execution_count": null,
   "metadata": {},
   "outputs": [],
   "source": []
  }
 ],
 "metadata": {
  "kernelspec": {
   "display_name": "Python 3",
   "language": "python",
   "name": "python3"
  },
  "language_info": {
   "codemirror_mode": {
    "name": "ipython",
    "version": 3
   },
   "file_extension": ".py",
   "mimetype": "text/x-python",
   "name": "python",
   "nbconvert_exporter": "python",
   "pygments_lexer": "ipython3",
   "version": "3.7.6"
  }
 },
 "nbformat": 4,
 "nbformat_minor": 4
}
